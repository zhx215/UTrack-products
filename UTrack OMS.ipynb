{
 "cells": [
  {
   "cell_type": "markdown",
   "id": "bd89ee83",
   "metadata": {},
   "source": [
    "# get ocean source RH/SST and source ratio"
   ]
  },
  {
   "cell_type": "code",
   "execution_count": null,
   "id": "a180c1f2",
   "metadata": {},
   "outputs": [],
   "source": [
    "import numpy as np\n",
    "import pandas as pd\n",
    "import netCDF4\n",
    "import math\n",
    "import matplotlib.pyplot as plt\n",
    "from netCDF4 import Dataset\n",
    "import pyreadr\n",
    "import xarray"
   ]
  },
  {
   "cell_type": "code",
   "execution_count": null,
   "id": "ba8408b8",
   "metadata": {},
   "outputs": [],
   "source": [
    "rdata = pyreadr.read_r(\"ERA3_data.RData\") # import processed ERA5 datasets\n",
    "month = [\"01\",\"02\",\"03\",\"04\",\"05\",\"06\",\"07\",\"08\",\"09\",\"10\",\"11\",\"12\"]"
   ]
  },
  {
   "cell_type": "code",
   "execution_count": null,
   "id": "74fe003a",
   "metadata": {
    "scrolled": true
   },
   "outputs": [],
   "source": [
    "for mn in range(12):\n",
    "    dataset = Dataset(\"utrack_climatology_1.0_\"+month[mn]+\".nc\") # read UTrack dataset file by month\n",
    "    lat = dataset.variables['sourcelat'][:].data\n",
    "    lon = dataset.variables['sourcelon'][:].data\n",
    "    moisture_flow = dataset.variables['moisture_flow'][:].data\n",
    "    rhs_12mean_regrid = xarray.DataArray.to_numpy(rdata[\"rhs_12mean_regrid\"])\n",
    "    sst_12mean_regrid = xarray.DataArray.to_numpy(rdata[\"sst_12mean_regrid\"])\n",
    "    precip_12mean_regrid = xarray.DataArray.to_numpy(rdata[\"precip_12mean_regrid\"])\n",
    "    evap_12mean_regrid = xarray.DataArray.to_numpy(rdata[\"evap_12mean_regrid\"])\n",
    "    rhs_mean = np.zeros(shape=(360,180))\n",
    "    sst_mean = np.zeros(shape=(360,180))\n",
    "    operc = np.zeros(shape=(360,180))\n",
    "    rhs = np.matrix.flatten(rhs_12mean_regrid[mn,:,:])\n",
    "    sst = np.matrix.flatten(sst_12mean_regrid[mn,:,:])\n",
    "    idr = np.where(~np.isnan(rhs))[0]\n",
    "    for i in range(360):\n",
    "        for j in range(180):\n",
    "            flux = np.matrix.flatten(evap_12mean_regrid[mn,:,:]*np.exp(np.transpose(moisture_flow[:,:,j,i])*-0.1))\n",
    "            rhs_mean[i,j] = sum(flux[idr]*rhs[idr])/sum(flux[idr])\n",
    "            sst_mean[i,j] = sum(flux[idr]*sst[idr])/sum(flux[idr]) # Equation 4 in the main text\n",
    "            operc[i,j] = sum(flux[idr])/sum(flux) # OMS ratio calculated in the main text\n",
    "        print(mn,i)\n",
    "    np.save(\"rhs_mean\"+month[mn]+\".npy\",rhs_mean)\n",
    "    np.save(\"sst_mean\"+month[mn]+\".npy\",sst_mean)\n",
    "    np.save(\"operc\"+month[mn]+\".npy\",operc)"
   ]
  },
  {
   "cell_type": "markdown",
   "id": "794bec56",
   "metadata": {},
   "source": [
    "# get 1st cascade"
   ]
  },
  {
   "cell_type": "code",
   "execution_count": null,
   "id": "64254b0f",
   "metadata": {},
   "outputs": [],
   "source": [
    "import numpy as np\n",
    "import pandas as pd\n",
    "import netCDF4\n",
    "import math\n",
    "import matplotlib.pyplot as plt\n",
    "from netCDF4 import Dataset\n",
    "import pyreadr\n",
    "import xarray"
   ]
  },
  {
   "cell_type": "code",
   "execution_count": null,
   "id": "4e4abe16",
   "metadata": {},
   "outputs": [],
   "source": [
    "rdata = pyreadr.read_r(\"ERA3_data.RData\") # import processed ERA5 datasets\n",
    "month = [\"01\",\"02\",\"03\",\"04\",\"05\",\"06\",\"07\",\"08\",\"09\",\"10\",\"11\",\"12\"]"
   ]
  },
  {
   "cell_type": "code",
   "execution_count": null,
   "id": "0600f03c",
   "metadata": {
    "scrolled": true
   },
   "outputs": [],
   "source": [
    "for mn in range(12):\n",
    "    rhs_mean = np.load(\"rhs_mean\"+month[mn]+\".npy\") # read direct OMS outputs\n",
    "    sst_mean = np.load(\"sst_mean\"+month[mn]+\".npy\")\n",
    "    operc = np.load(\"operc\"+month[mn]+\".npy\")\n",
    "    dataset = Dataset(\"utrack_climatology_1.0_\"+month[mn]+\".nc\") # read UTrack dataset file by month\n",
    "    lat = dataset.variables['sourcelat'][:].data\n",
    "    lon = dataset.variables['sourcelon'][:].data\n",
    "    moisture_flow = dataset.variables['moisture_flow'][:].data\n",
    "    rhs_12mean_regrid = xarray.DataArray.to_numpy(rdata[\"rhs_12mean_regrid\"])\n",
    "    sst_12mean_regrid = xarray.DataArray.to_numpy(rdata[\"sst_12mean_regrid\"])\n",
    "    precip_12mean_regrid = xarray.DataArray.to_numpy(rdata[\"precip_12mean_regrid\"])\n",
    "    evap_12mean_regrid = xarray.DataArray.to_numpy(rdata[\"evap_12mean_regrid\"])\n",
    "    rhs1c_mean = np.zeros(shape=(360,180))\n",
    "    sst1c_mean = np.zeros(shape=(360,180))\n",
    "    operc1c = np.zeros(shape=(360,180))\n",
    "    rhs = np.matrix.flatten(rhs_12mean_regrid[mn,:,:])\n",
    "    idc = np.where(np.isnan(rhs))[0]\n",
    "    rhs = np.matrix.flatten(rhs_mean)\n",
    "    sst = np.matrix.flatten(sst_mean)\n",
    "    operc = np.matrix.flatten(operc)\n",
    "    for i in range(360):\n",
    "        for j in range(180):\n",
    "            flux = np.matrix.flatten(evap_12mean_regrid[mn,:,:]*np.exp(np.transpose(moisture_flow[:,:,j,i])*-0.1))\n",
    "            rhs1c_mean[i,j] = sum(flux[idc]*rhs[idc])/sum(flux[idc])\n",
    "            sst1c_mean[i,j] = sum(flux[idc]*sst[idc])/sum(flux[idc]) # Equation S3 in the Supporting Information\n",
    "            operc1c[i,j] = sum(flux[idc]*operc[idc])/sum(flux[idc]) # Equation S1 in the Supporting Information\n",
    "        print(mn,i)\n",
    "    np.save(\"rhs1c_mean\"+month[mn]+\".npy\",rhs1c_mean)\n",
    "    np.save(\"sst1c_mean\"+month[mn]+\".npy\",sst1c_mean)\n",
    "    np.save(\"operc1c\"+month[mn]+\".npy\",operc1c)"
   ]
  }
 ],
 "metadata": {
  "kernelspec": {
   "display_name": "Python 3 (ipykernel)",
   "language": "python",
   "name": "python3"
  },
  "language_info": {
   "codemirror_mode": {
    "name": "ipython",
    "version": 3
   },
   "file_extension": ".py",
   "mimetype": "text/x-python",
   "name": "python",
   "nbconvert_exporter": "python",
   "pygments_lexer": "ipython3",
   "version": "3.9.7"
  }
 },
 "nbformat": 4,
 "nbformat_minor": 5
}
